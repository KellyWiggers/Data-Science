{
 "cells": [
  {
   "cell_type": "markdown",
   "id": "7fe77e30",
   "metadata": {},
   "source": [
    "## Vamos trabalhar com o exemplo de Banco"
   ]
  },
  {
   "cell_type": "code",
   "execution_count": 1,
   "id": "f95ce665",
   "metadata": {},
   "outputs": [],
   "source": [
    "import pandas as pd\n",
    "data_banco = pd.read_csv('dados_banco.csv') # Comma Separated Values - Valores Separados Por Vírgula"
   ]
  },
  {
   "cell_type": "code",
   "execution_count": 2,
   "id": "8d751d06",
   "metadata": {},
   "outputs": [
    {
     "data": {
      "text/html": [
       "<div>\n",
       "<style scoped>\n",
       "    .dataframe tbody tr th:only-of-type {\n",
       "        vertical-align: middle;\n",
       "    }\n",
       "\n",
       "    .dataframe tbody tr th {\n",
       "        vertical-align: top;\n",
       "    }\n",
       "\n",
       "    .dataframe thead th {\n",
       "        text-align: right;\n",
       "    }\n",
       "</style>\n",
       "<table border=\"1\" class=\"dataframe\">\n",
       "  <thead>\n",
       "    <tr style=\"text-align: right;\">\n",
       "      <th></th>\n",
       "      <th>Unnamed: 0</th>\n",
       "      <th>Cliente</th>\n",
       "      <th>Sexo</th>\n",
       "      <th>Idade</th>\n",
       "      <th>Empresa</th>\n",
       "      <th>Salario</th>\n",
       "      <th>Saldo_cc</th>\n",
       "      <th>Saldo_poupança</th>\n",
       "      <th>Saldo_investimento</th>\n",
       "      <th>Devedor_cartao</th>\n",
       "      <th>Inadimplente</th>\n",
       "    </tr>\n",
       "  </thead>\n",
       "  <tbody>\n",
       "    <tr>\n",
       "      <th>0</th>\n",
       "      <td>1</td>\n",
       "      <td>1</td>\n",
       "      <td>M</td>\n",
       "      <td>33</td>\n",
       "      <td>Privada</td>\n",
       "      <td>6019</td>\n",
       "      <td>1084,98</td>\n",
       "      <td>0,00</td>\n",
       "      <td>0,00</td>\n",
       "      <td>1214,35</td>\n",
       "      <td>0</td>\n",
       "    </tr>\n",
       "    <tr>\n",
       "      <th>1</th>\n",
       "      <td>2</td>\n",
       "      <td>2</td>\n",
       "      <td>F</td>\n",
       "      <td>31</td>\n",
       "      <td>Pública</td>\n",
       "      <td>5134</td>\n",
       "      <td>532,09</td>\n",
       "      <td>0,00</td>\n",
       "      <td>0,00</td>\n",
       "      <td>1662,96</td>\n",
       "      <td>0</td>\n",
       "    </tr>\n",
       "    <tr>\n",
       "      <th>2</th>\n",
       "      <td>3</td>\n",
       "      <td>3</td>\n",
       "      <td>M</td>\n",
       "      <td>31</td>\n",
       "      <td>Pública</td>\n",
       "      <td>5286</td>\n",
       "      <td>719,91</td>\n",
       "      <td>0,00</td>\n",
       "      <td>0,00</td>\n",
       "      <td>2167,97</td>\n",
       "      <td>0</td>\n",
       "    </tr>\n",
       "    <tr>\n",
       "      <th>3</th>\n",
       "      <td>4</td>\n",
       "      <td>4</td>\n",
       "      <td>F</td>\n",
       "      <td>32</td>\n",
       "      <td>Privada</td>\n",
       "      <td>5534</td>\n",
       "      <td>547,47</td>\n",
       "      <td>0,00</td>\n",
       "      <td>0,00</td>\n",
       "      <td>639,13</td>\n",
       "      <td>1</td>\n",
       "    </tr>\n",
       "    <tr>\n",
       "      <th>4</th>\n",
       "      <td>5</td>\n",
       "      <td>5</td>\n",
       "      <td>F</td>\n",
       "      <td>28</td>\n",
       "      <td>Autônomo</td>\n",
       "      <td>4559</td>\n",
       "      <td>412,81</td>\n",
       "      <td>0,00</td>\n",
       "      <td>0,00</td>\n",
       "      <td>1466,96</td>\n",
       "      <td>1</td>\n",
       "    </tr>\n",
       "  </tbody>\n",
       "</table>\n",
       "</div>"
      ],
      "text/plain": [
       "   Unnamed: 0  Cliente Sexo  Idade   Empresa  Salario Saldo_cc Saldo_poupança  \\\n",
       "0           1        1    M     33   Privada     6019  1084,98           0,00   \n",
       "1           2        2    F     31   Pública     5134   532,09           0,00   \n",
       "2           3        3    M     31   Pública     5286   719,91           0,00   \n",
       "3           4        4    F     32   Privada     5534   547,47           0,00   \n",
       "4           5        5    F     28  Autônomo     4559   412,81           0,00   \n",
       "\n",
       "  Saldo_investimento Devedor_cartao  Inadimplente  \n",
       "0               0,00        1214,35             0  \n",
       "1               0,00        1662,96             0  \n",
       "2               0,00        2167,97             0  \n",
       "3               0,00         639,13             1  \n",
       "4               0,00        1466,96             1  "
      ]
     },
     "execution_count": 2,
     "metadata": {},
     "output_type": "execute_result"
    }
   ],
   "source": [
    "data_banco.head()"
   ]
  },
  {
   "cell_type": "code",
   "execution_count": 3,
   "id": "afd506c7",
   "metadata": {},
   "outputs": [
    {
     "data": {
      "text/plain": [
       "0             1\n",
       "1             2\n",
       "2             3\n",
       "3             4\n",
       "4             5\n",
       "          ...  \n",
       "99995     99996\n",
       "99996     99997\n",
       "99997     99998\n",
       "99998     99999\n",
       "99999    100000\n",
       "Name: Cliente, Length: 100000, dtype: int64"
      ]
     },
     "execution_count": 3,
     "metadata": {},
     "output_type": "execute_result"
    }
   ],
   "source": [
    "data_banco['Cliente']"
   ]
  },
  {
   "cell_type": "code",
   "execution_count": 4,
   "id": "95442efe",
   "metadata": {},
   "outputs": [
    {
     "data": {
      "text/plain": [
       "0        M\n",
       "1        F\n",
       "2        M\n",
       "3        F\n",
       "4        F\n",
       "        ..\n",
       "99995    F\n",
       "99996    M\n",
       "99997    M\n",
       "99998    F\n",
       "99999    M\n",
       "Name: Sexo, Length: 100000, dtype: object"
      ]
     },
     "execution_count": 4,
     "metadata": {},
     "output_type": "execute_result"
    }
   ],
   "source": [
    "data_banco['Sexo']"
   ]
  },
  {
   "cell_type": "code",
   "execution_count": 5,
   "id": "0bd2abc6",
   "metadata": {},
   "outputs": [
    {
     "data": {
      "text/plain": [
       "0        33\n",
       "1        31\n",
       "2        31\n",
       "3        32\n",
       "4        28\n",
       "         ..\n",
       "99995    31\n",
       "99996    32\n",
       "99997    31\n",
       "99998    30\n",
       "99999    31\n",
       "Name: Idade, Length: 100000, dtype: int64"
      ]
     },
     "execution_count": 5,
     "metadata": {},
     "output_type": "execute_result"
    }
   ],
   "source": [
    "data_banco['Idade']"
   ]
  },
  {
   "cell_type": "code",
   "execution_count": 6,
   "id": "b6024963",
   "metadata": {},
   "outputs": [
    {
     "data": {
      "text/plain": [
       "0         Privada\n",
       "1         Pública\n",
       "2         Pública\n",
       "3         Privada\n",
       "4        Autônomo\n",
       "           ...   \n",
       "99995    Autônomo\n",
       "99996     Privada\n",
       "99997     Pública\n",
       "99998     Pública\n",
       "99999    Autônomo\n",
       "Name: Empresa, Length: 100000, dtype: object"
      ]
     },
     "execution_count": 6,
     "metadata": {},
     "output_type": "execute_result"
    }
   ],
   "source": [
    "data_banco['Empresa']"
   ]
  },
  {
   "cell_type": "code",
   "execution_count": 13,
   "id": "ba073f73",
   "metadata": {},
   "outputs": [],
   "source": [
    "frequencia = data_banco['Inadimplente'].value_counts() #frequencia absoluta\n",
    "percentual = data_banco['Inadimplente'].value_counts(normalize = True)*100"
   ]
  },
  {
   "cell_type": "code",
   "execution_count": 15,
   "id": "fd60ab9a",
   "metadata": {},
   "outputs": [
    {
     "data": {
      "text/html": [
       "<div>\n",
       "<style scoped>\n",
       "    .dataframe tbody tr th:only-of-type {\n",
       "        vertical-align: middle;\n",
       "    }\n",
       "\n",
       "    .dataframe tbody tr th {\n",
       "        vertical-align: top;\n",
       "    }\n",
       "\n",
       "    .dataframe thead th {\n",
       "        text-align: right;\n",
       "    }\n",
       "</style>\n",
       "<table border=\"1\" class=\"dataframe\">\n",
       "  <thead>\n",
       "    <tr style=\"text-align: right;\">\n",
       "      <th></th>\n",
       "      <th>Frequência</th>\n",
       "      <th>Porcentagem(%)</th>\n",
       "    </tr>\n",
       "  </thead>\n",
       "  <tbody>\n",
       "    <tr>\n",
       "      <th>0</th>\n",
       "      <td>75641</td>\n",
       "      <td>75.641</td>\n",
       "    </tr>\n",
       "    <tr>\n",
       "      <th>1</th>\n",
       "      <td>24359</td>\n",
       "      <td>24.359</td>\n",
       "    </tr>\n",
       "  </tbody>\n",
       "</table>\n",
       "</div>"
      ],
      "text/plain": [
       "   Frequência  Porcentagem(%)\n",
       "0       75641          75.641\n",
       "1       24359          24.359"
      ]
     },
     "execution_count": 15,
     "metadata": {},
     "output_type": "execute_result"
    }
   ],
   "source": [
    "dist_freq = pd.DataFrame({'Frequência': frequencia, 'Porcentagem(%)': percentual})\n",
    "dist_freq"
   ]
  },
  {
   "cell_type": "code",
   "execution_count": 16,
   "id": "4e8e25ac",
   "metadata": {},
   "outputs": [
    {
     "data": {
      "text/html": [
       "<div>\n",
       "<style scoped>\n",
       "    .dataframe tbody tr th:only-of-type {\n",
       "        vertical-align: middle;\n",
       "    }\n",
       "\n",
       "    .dataframe tbody tr th {\n",
       "        vertical-align: top;\n",
       "    }\n",
       "\n",
       "    .dataframe thead th {\n",
       "        text-align: right;\n",
       "    }\n",
       "</style>\n",
       "<table border=\"1\" class=\"dataframe\">\n",
       "  <thead>\n",
       "    <tr style=\"text-align: right;\">\n",
       "      <th>Inadimplentes</th>\n",
       "      <th>Frequência</th>\n",
       "      <th>Porcentagem(%)</th>\n",
       "    </tr>\n",
       "  </thead>\n",
       "  <tbody>\n",
       "    <tr>\n",
       "      <th>0</th>\n",
       "      <td>75641</td>\n",
       "      <td>75.641</td>\n",
       "    </tr>\n",
       "    <tr>\n",
       "      <th>1</th>\n",
       "      <td>24359</td>\n",
       "      <td>24.359</td>\n",
       "    </tr>\n",
       "  </tbody>\n",
       "</table>\n",
       "</div>"
      ],
      "text/plain": [
       "Inadimplentes  Frequência  Porcentagem(%)\n",
       "0                   75641          75.641\n",
       "1                   24359          24.359"
      ]
     },
     "execution_count": 16,
     "metadata": {},
     "output_type": "execute_result"
    }
   ],
   "source": [
    "dist_freq.rename_axis('Inadimplentes', axis = 'columns', inplace = True)\n",
    "dist_freq"
   ]
  },
  {
   "cell_type": "code",
   "execution_count": 11,
   "id": "2159c5aa",
   "metadata": {},
   "outputs": [
    {
     "data": {
      "text/plain": [
       "0    0.75641\n",
       "1    0.24359\n",
       "Name: Inadimplente, dtype: float64"
      ]
     },
     "execution_count": 11,
     "metadata": {},
     "output_type": "execute_result"
    }
   ],
   "source": [
    "fr = (data_banco['Inadimplente'].value_counts())/len(data_banco)\n",
    "fr"
   ]
  },
  {
   "cell_type": "code",
   "execution_count": 46,
   "id": "065a1aac",
   "metadata": {},
   "outputs": [
    {
     "data": {
      "text/html": [
       "<div>\n",
       "<style scoped>\n",
       "    .dataframe tbody tr th:only-of-type {\n",
       "        vertical-align: middle;\n",
       "    }\n",
       "\n",
       "    .dataframe tbody tr th {\n",
       "        vertical-align: top;\n",
       "    }\n",
       "\n",
       "    .dataframe thead th {\n",
       "        text-align: right;\n",
       "    }\n",
       "</style>\n",
       "<table border=\"1\" class=\"dataframe\">\n",
       "  <thead>\n",
       "    <tr style=\"text-align: right;\">\n",
       "      <th></th>\n",
       "      <th>Unnamed: 0</th>\n",
       "      <th>Cliente</th>\n",
       "      <th>Idade</th>\n",
       "      <th>Salario</th>\n",
       "      <th>Inadimplente</th>\n",
       "    </tr>\n",
       "  </thead>\n",
       "  <tbody>\n",
       "    <tr>\n",
       "      <th>count</th>\n",
       "      <td>100000.000000</td>\n",
       "      <td>100000.000000</td>\n",
       "      <td>100000.00000</td>\n",
       "      <td>100000.000000</td>\n",
       "      <td>100000.00000</td>\n",
       "    </tr>\n",
       "    <tr>\n",
       "      <th>mean</th>\n",
       "      <td>50000.500000</td>\n",
       "      <td>50000.500000</td>\n",
       "      <td>31.83236</td>\n",
       "      <td>5513.453080</td>\n",
       "      <td>0.24359</td>\n",
       "    </tr>\n",
       "    <tr>\n",
       "      <th>std</th>\n",
       "      <td>28867.657797</td>\n",
       "      <td>28867.657797</td>\n",
       "      <td>2.92772</td>\n",
       "      <td>392.083661</td>\n",
       "      <td>0.42925</td>\n",
       "    </tr>\n",
       "    <tr>\n",
       "      <th>min</th>\n",
       "      <td>1.000000</td>\n",
       "      <td>1.000000</td>\n",
       "      <td>21.00000</td>\n",
       "      <td>4359.000000</td>\n",
       "      <td>0.00000</td>\n",
       "    </tr>\n",
       "    <tr>\n",
       "      <th>25%</th>\n",
       "      <td>25000.750000</td>\n",
       "      <td>25000.750000</td>\n",
       "      <td>30.00000</td>\n",
       "      <td>5235.000000</td>\n",
       "      <td>0.00000</td>\n",
       "    </tr>\n",
       "    <tr>\n",
       "      <th>50%</th>\n",
       "      <td>50000.500000</td>\n",
       "      <td>50000.500000</td>\n",
       "      <td>32.00000</td>\n",
       "      <td>5530.000000</td>\n",
       "      <td>0.00000</td>\n",
       "    </tr>\n",
       "    <tr>\n",
       "      <th>75%</th>\n",
       "      <td>75000.250000</td>\n",
       "      <td>75000.250000</td>\n",
       "      <td>34.00000</td>\n",
       "      <td>5766.000000</td>\n",
       "      <td>0.00000</td>\n",
       "    </tr>\n",
       "    <tr>\n",
       "      <th>max</th>\n",
       "      <td>100000.000000</td>\n",
       "      <td>100000.000000</td>\n",
       "      <td>56.00000</td>\n",
       "      <td>9080.000000</td>\n",
       "      <td>1.00000</td>\n",
       "    </tr>\n",
       "  </tbody>\n",
       "</table>\n",
       "</div>"
      ],
      "text/plain": [
       "          Unnamed: 0        Cliente         Idade        Salario  Inadimplente\n",
       "count  100000.000000  100000.000000  100000.00000  100000.000000  100000.00000\n",
       "mean    50000.500000   50000.500000      31.83236    5513.453080       0.24359\n",
       "std     28867.657797   28867.657797       2.92772     392.083661       0.42925\n",
       "min         1.000000       1.000000      21.00000    4359.000000       0.00000\n",
       "25%     25000.750000   25000.750000      30.00000    5235.000000       0.00000\n",
       "50%     50000.500000   50000.500000      32.00000    5530.000000       0.00000\n",
       "75%     75000.250000   75000.250000      34.00000    5766.000000       0.00000\n",
       "max    100000.000000  100000.000000      56.00000    9080.000000       1.00000"
      ]
     },
     "execution_count": 46,
     "metadata": {},
     "output_type": "execute_result"
    }
   ],
   "source": [
    "data_banco.describe()"
   ]
  },
  {
   "cell_type": "code",
   "execution_count": 47,
   "id": "6f3d2448",
   "metadata": {},
   "outputs": [
    {
     "data": {
      "text/html": [
       "<div>\n",
       "<style scoped>\n",
       "    .dataframe tbody tr th:only-of-type {\n",
       "        vertical-align: middle;\n",
       "    }\n",
       "\n",
       "    .dataframe tbody tr th {\n",
       "        vertical-align: top;\n",
       "    }\n",
       "\n",
       "    .dataframe thead th {\n",
       "        text-align: right;\n",
       "    }\n",
       "</style>\n",
       "<table border=\"1\" class=\"dataframe\">\n",
       "  <thead>\n",
       "    <tr style=\"text-align: right;\">\n",
       "      <th></th>\n",
       "      <th>Sexo</th>\n",
       "      <th>Empresa</th>\n",
       "      <th>Saldo_cc</th>\n",
       "      <th>Saldo_poupança</th>\n",
       "      <th>Saldo_investimento</th>\n",
       "      <th>Devedor_cartao</th>\n",
       "    </tr>\n",
       "  </thead>\n",
       "  <tbody>\n",
       "    <tr>\n",
       "      <th>count</th>\n",
       "      <td>100000</td>\n",
       "      <td>100000</td>\n",
       "      <td>100000</td>\n",
       "      <td>100000</td>\n",
       "      <td>100000</td>\n",
       "      <td>100000</td>\n",
       "    </tr>\n",
       "    <tr>\n",
       "      <th>unique</th>\n",
       "      <td>2</td>\n",
       "      <td>3</td>\n",
       "      <td>60296</td>\n",
       "      <td>13157</td>\n",
       "      <td>13290</td>\n",
       "      <td>77051</td>\n",
       "    </tr>\n",
       "    <tr>\n",
       "      <th>top</th>\n",
       "      <td>M</td>\n",
       "      <td>Privada</td>\n",
       "      <td>930,52</td>\n",
       "      <td>0,00</td>\n",
       "      <td>0,00</td>\n",
       "      <td>0,00</td>\n",
       "    </tr>\n",
       "    <tr>\n",
       "      <th>freq</th>\n",
       "      <td>58155</td>\n",
       "      <td>61624</td>\n",
       "      <td>8</td>\n",
       "      <td>86631</td>\n",
       "      <td>86631</td>\n",
       "      <td>16309</td>\n",
       "    </tr>\n",
       "  </tbody>\n",
       "</table>\n",
       "</div>"
      ],
      "text/plain": [
       "          Sexo  Empresa Saldo_cc Saldo_poupança Saldo_investimento  \\\n",
       "count   100000   100000   100000         100000             100000   \n",
       "unique       2        3    60296          13157              13290   \n",
       "top          M  Privada   930,52           0,00               0,00   \n",
       "freq     58155    61624        8          86631              86631   \n",
       "\n",
       "       Devedor_cartao  \n",
       "count          100000  \n",
       "unique          77051  \n",
       "top              0,00  \n",
       "freq            16309  "
      ]
     },
     "execution_count": 47,
     "metadata": {},
     "output_type": "execute_result"
    }
   ],
   "source": [
    "data_banco.describe(include='O')"
   ]
  },
  {
   "cell_type": "code",
   "execution_count": 48,
   "id": "33cce0bc",
   "metadata": {},
   "outputs": [
    {
     "name": "stdout",
     "output_type": "stream",
     "text": [
      "<class 'pandas.core.frame.DataFrame'>\n",
      "RangeIndex: 36 entries, 0 to 35\n",
      "Data columns (total 8 columns):\n",
      " #   Column        Non-Null Count  Dtype  \n",
      "---  ------        --------------  -----  \n",
      " 0   funcionario   36 non-null     int64  \n",
      " 1   estado_civil  36 non-null     object \n",
      " 2   instrucao     36 non-null     object \n",
      " 3   nfilhos       20 non-null     float64\n",
      " 4   salario       36 non-null     float64\n",
      " 5   idade_anos    36 non-null     int64  \n",
      " 6   idade_meses   36 non-null     int64  \n",
      " 7   regiao        36 non-null     object \n",
      "dtypes: float64(2), int64(3), object(3)\n",
      "memory usage: 2.4+ KB\n"
     ]
    }
   ],
   "source": [
    "data.info()"
   ]
  },
  {
   "cell_type": "markdown",
   "id": "4266736c",
   "metadata": {},
   "source": [
    "## Trabalhando com dados faltantes\n",
    "\n",
    "Algoritmos de Machine Learning não são capazes de lidar com valores ausentes (missing data). Se você já tentou rodar, viu que a mensagem de erro é bem clara em relação a isso.\n",
    "\n",
    "Um valor ausente é facilmente identificado nos campos da sua estrutura de dados como NaN. Para seu modelo rodar sem problemas, você tem que limpar, em uma etapa anterior, os dados (data cleaning). É aí que surge a dúvida: o que eu faço com eles?\n",
    "\n",
    "Não existe uma resposta 100% correta, pois cada abordagem tem suas vantagens e desvantagens, mas vamos dar uma olhada naquelas que são mais usadas.\n",
    "\n",
    "A primeira coisa que você tem que saber quando lida com um conjunto de dados novos é a quantidade e proporção dos missing values."
   ]
  },
  {
   "cell_type": "code",
   "execution_count": 49,
   "id": "db1b35c0",
   "metadata": {},
   "outputs": [],
   "source": [
    "import pandas as pd\n",
    "data = pd.read_csv('titanic/train.csv') # Comma Separated Values - Valores Separados Por Vírgula\n",
    "data.columns = ['IdPassageiro', 'Sobreviveu', 'Classe', 'Nome', 'Sexo', 'Idade', \n",
    "                'IrmaosConjuge','PaisFilhos', 'Bilhete', 'Tarifa', 'Cabine', 'Embarque']"
   ]
  },
  {
   "cell_type": "code",
   "execution_count": 50,
   "id": "11b95f91",
   "metadata": {},
   "outputs": [
    {
     "data": {
      "text/plain": [
       "IdPassageiro       0\n",
       "Sobreviveu         0\n",
       "Classe             0\n",
       "Nome               0\n",
       "Sexo               0\n",
       "Idade            177\n",
       "IrmaosConjuge      0\n",
       "PaisFilhos         0\n",
       "Bilhete            0\n",
       "Tarifa             0\n",
       "Cabine           687\n",
       "Embarque           2\n",
       "dtype: int64"
      ]
     },
     "execution_count": 50,
     "metadata": {},
     "output_type": "execute_result"
    }
   ],
   "source": [
    "data.isnull().sum()"
   ]
  },
  {
   "cell_type": "markdown",
   "id": "6da1ab63",
   "metadata": {},
   "source": [
    "## Como não existe resposta correta, você deve explorar os dados, verificar o que pode ser realizado com aquelas colunas que possuem dados faltantes\n",
    "\n",
    "* Possibilidade 1:\n",
    "\n",
    "### Excluir valores ausentes\n",
    "\n",
    "Esta é uma decisão mais radical, e deve ser feita apenas em casos em que não haverá impacto significativo no modelo. Ao eliminar uma linha inteira, você joga fora um monte de informação que poderia ser extremamente importante.\n",
    "\n",
    "Geralmente é usada essa opção apenas quando meu dataset é consideravelmente grande e a quantidade de valores ausentes é relativamente insignificante."
   ]
  },
  {
   "cell_type": "markdown",
   "id": "25804e1f",
   "metadata": {},
   "source": [
    "Por exemplo, vamos deletar a Cabine, pois considerando que num modelo preditivo, \"pode\" que essa coluna não seja interessante para o modelo.\n"
   ]
  },
  {
   "cell_type": "code",
   "execution_count": 51,
   "id": "16199cdf",
   "metadata": {},
   "outputs": [],
   "source": [
    "data.drop('Cabine', axis=1, inplace=True)"
   ]
  },
  {
   "cell_type": "code",
   "execution_count": 52,
   "id": "c7351a85",
   "metadata": {},
   "outputs": [
    {
     "data": {
      "text/plain": [
       "IdPassageiro       0\n",
       "Sobreviveu         0\n",
       "Classe             0\n",
       "Nome               0\n",
       "Sexo               0\n",
       "Idade            177\n",
       "IrmaosConjuge      0\n",
       "PaisFilhos         0\n",
       "Bilhete            0\n",
       "Tarifa             0\n",
       "Embarque           2\n",
       "dtype: int64"
      ]
     },
     "execution_count": 52,
     "metadata": {},
     "output_type": "execute_result"
    }
   ],
   "source": [
    "data.isnull().sum()"
   ]
  },
  {
   "cell_type": "markdown",
   "id": "456d08cc",
   "metadata": {},
   "source": [
    "* Possibilidade 2\n",
    "\n",
    "### Preencher valores ausentes\n",
    "\n",
    "Esta abordagem é a mais utilizada, pois você não joga fora informação útil. Aqui, a dúvida que você vai ter é em relação a qual valor usar para preencher os dados faltantes."
   ]
  },
  {
   "cell_type": "code",
   "execution_count": 53,
   "id": "7a72e882",
   "metadata": {},
   "outputs": [
    {
     "data": {
      "text/html": [
       "<div>\n",
       "<style scoped>\n",
       "    .dataframe tbody tr th:only-of-type {\n",
       "        vertical-align: middle;\n",
       "    }\n",
       "\n",
       "    .dataframe tbody tr th {\n",
       "        vertical-align: top;\n",
       "    }\n",
       "\n",
       "    .dataframe thead th {\n",
       "        text-align: right;\n",
       "    }\n",
       "</style>\n",
       "<table border=\"1\" class=\"dataframe\">\n",
       "  <thead>\n",
       "    <tr style=\"text-align: right;\">\n",
       "      <th></th>\n",
       "      <th>IdPassageiro</th>\n",
       "      <th>Sobreviveu</th>\n",
       "      <th>Classe</th>\n",
       "      <th>Nome</th>\n",
       "      <th>Sexo</th>\n",
       "      <th>Idade</th>\n",
       "      <th>IrmaosConjuge</th>\n",
       "      <th>PaisFilhos</th>\n",
       "      <th>Bilhete</th>\n",
       "      <th>Tarifa</th>\n",
       "      <th>Embarque</th>\n",
       "    </tr>\n",
       "  </thead>\n",
       "  <tbody>\n",
       "    <tr>\n",
       "      <th>61</th>\n",
       "      <td>62</td>\n",
       "      <td>1</td>\n",
       "      <td>1</td>\n",
       "      <td>Icard, Miss. Amelie</td>\n",
       "      <td>female</td>\n",
       "      <td>38.0</td>\n",
       "      <td>0</td>\n",
       "      <td>0</td>\n",
       "      <td>113572</td>\n",
       "      <td>80.0</td>\n",
       "      <td>NaN</td>\n",
       "    </tr>\n",
       "    <tr>\n",
       "      <th>829</th>\n",
       "      <td>830</td>\n",
       "      <td>1</td>\n",
       "      <td>1</td>\n",
       "      <td>Stone, Mrs. George Nelson (Martha Evelyn)</td>\n",
       "      <td>female</td>\n",
       "      <td>62.0</td>\n",
       "      <td>0</td>\n",
       "      <td>0</td>\n",
       "      <td>113572</td>\n",
       "      <td>80.0</td>\n",
       "      <td>NaN</td>\n",
       "    </tr>\n",
       "  </tbody>\n",
       "</table>\n",
       "</div>"
      ],
      "text/plain": [
       "     IdPassageiro  Sobreviveu  Classe  \\\n",
       "61             62           1       1   \n",
       "829           830           1       1   \n",
       "\n",
       "                                          Nome    Sexo  Idade  IrmaosConjuge  \\\n",
       "61                         Icard, Miss. Amelie  female   38.0              0   \n",
       "829  Stone, Mrs. George Nelson (Martha Evelyn)  female   62.0              0   \n",
       "\n",
       "     PaisFilhos Bilhete  Tarifa Embarque  \n",
       "61            0  113572    80.0      NaN  \n",
       "829           0  113572    80.0      NaN  "
      ]
     },
     "execution_count": 53,
     "metadata": {},
     "output_type": "execute_result"
    }
   ],
   "source": [
    "data.loc[data['Embarque'].isnull()] #verificando quais os dois valores de embarque que estão faltantes"
   ]
  },
  {
   "cell_type": "code",
   "execution_count": 54,
   "id": "34ba4bbb",
   "metadata": {},
   "outputs": [
    {
     "data": {
      "text/plain": [
       "array(['S', 'C', 'Q', nan], dtype=object)"
      ]
     },
     "execution_count": 54,
     "metadata": {},
     "output_type": "execute_result"
    }
   ],
   "source": [
    "data['Embarque'].unique() #verificar quais os tipos de portão de embarque que existem"
   ]
  },
  {
   "cell_type": "code",
   "execution_count": 55,
   "id": "79320e73",
   "metadata": {},
   "outputs": [
    {
     "data": {
      "text/plain": [
       "0    S\n",
       "dtype: object"
      ]
     },
     "execution_count": 55,
     "metadata": {},
     "output_type": "execute_result"
    }
   ],
   "source": [
    "data['Embarque'].mode() #verificar o portão de embarque que mais se repete (moda)"
   ]
  },
  {
   "cell_type": "code",
   "execution_count": 56,
   "id": "fcdacbe2",
   "metadata": {},
   "outputs": [
    {
     "data": {
      "text/html": [
       "<div>\n",
       "<style scoped>\n",
       "    .dataframe tbody tr th:only-of-type {\n",
       "        vertical-align: middle;\n",
       "    }\n",
       "\n",
       "    .dataframe tbody tr th {\n",
       "        vertical-align: top;\n",
       "    }\n",
       "\n",
       "    .dataframe thead th {\n",
       "        text-align: right;\n",
       "    }\n",
       "</style>\n",
       "<table border=\"1\" class=\"dataframe\">\n",
       "  <thead>\n",
       "    <tr style=\"text-align: right;\">\n",
       "      <th></th>\n",
       "      <th>Nome</th>\n",
       "      <th>Sexo</th>\n",
       "      <th>Bilhete</th>\n",
       "      <th>Embarque</th>\n",
       "    </tr>\n",
       "  </thead>\n",
       "  <tbody>\n",
       "    <tr>\n",
       "      <th>count</th>\n",
       "      <td>891</td>\n",
       "      <td>891</td>\n",
       "      <td>891</td>\n",
       "      <td>889</td>\n",
       "    </tr>\n",
       "    <tr>\n",
       "      <th>unique</th>\n",
       "      <td>891</td>\n",
       "      <td>2</td>\n",
       "      <td>681</td>\n",
       "      <td>3</td>\n",
       "    </tr>\n",
       "    <tr>\n",
       "      <th>top</th>\n",
       "      <td>Thayer, Mrs. John Borland (Marian Longstreth M...</td>\n",
       "      <td>male</td>\n",
       "      <td>CA. 2343</td>\n",
       "      <td>S</td>\n",
       "    </tr>\n",
       "    <tr>\n",
       "      <th>freq</th>\n",
       "      <td>1</td>\n",
       "      <td>577</td>\n",
       "      <td>7</td>\n",
       "      <td>644</td>\n",
       "    </tr>\n",
       "  </tbody>\n",
       "</table>\n",
       "</div>"
      ],
      "text/plain": [
       "                                                     Nome  Sexo   Bilhete  \\\n",
       "count                                                 891   891       891   \n",
       "unique                                                891     2       681   \n",
       "top     Thayer, Mrs. John Borland (Marian Longstreth M...  male  CA. 2343   \n",
       "freq                                                    1   577         7   \n",
       "\n",
       "       Embarque  \n",
       "count       889  \n",
       "unique        3  \n",
       "top           S  \n",
       "freq        644  "
      ]
     },
     "execution_count": 56,
     "metadata": {},
     "output_type": "execute_result"
    }
   ],
   "source": [
    "data.describe(include='O')"
   ]
  },
  {
   "cell_type": "code",
   "execution_count": 57,
   "id": "49145ca6",
   "metadata": {},
   "outputs": [],
   "source": [
    "data['Embarque'].fillna('Q', inplace=True)"
   ]
  },
  {
   "cell_type": "code",
   "execution_count": 58,
   "id": "5a0ec161",
   "metadata": {},
   "outputs": [],
   "source": [
    "data['Embarque'].at[61] = 'S'"
   ]
  },
  {
   "cell_type": "code",
   "execution_count": 59,
   "id": "a10da84a",
   "metadata": {},
   "outputs": [
    {
     "data": {
      "text/plain": [
       "'S'"
      ]
     },
     "execution_count": 59,
     "metadata": {},
     "output_type": "execute_result"
    }
   ],
   "source": [
    "data['Embarque'].at[61]"
   ]
  },
  {
   "cell_type": "code",
   "execution_count": 60,
   "id": "649b655e",
   "metadata": {},
   "outputs": [],
   "source": [
    "data['Embarque'].at[829] = 'S'"
   ]
  },
  {
   "cell_type": "code",
   "execution_count": 61,
   "id": "88ecb764",
   "metadata": {},
   "outputs": [
    {
     "data": {
      "text/plain": [
       "'S'"
      ]
     },
     "execution_count": 61,
     "metadata": {},
     "output_type": "execute_result"
    }
   ],
   "source": [
    "data['Embarque'].at[829]"
   ]
  },
  {
   "cell_type": "code",
   "execution_count": 62,
   "id": "43c6257e",
   "metadata": {},
   "outputs": [
    {
     "data": {
      "text/plain": [
       "IdPassageiro       0\n",
       "Sobreviveu         0\n",
       "Classe             0\n",
       "Nome               0\n",
       "Sexo               0\n",
       "Idade            177\n",
       "IrmaosConjuge      0\n",
       "PaisFilhos         0\n",
       "Bilhete            0\n",
       "Tarifa             0\n",
       "Embarque           0\n",
       "dtype: int64"
      ]
     },
     "execution_count": 62,
     "metadata": {},
     "output_type": "execute_result"
    }
   ],
   "source": [
    "data.isnull().sum()"
   ]
  },
  {
   "cell_type": "markdown",
   "id": "c8b7188f",
   "metadata": {},
   "source": [
    "### Posso verificar os dados novamente\n"
   ]
  },
  {
   "cell_type": "code",
   "execution_count": 63,
   "id": "0f6d3cb3",
   "metadata": {},
   "outputs": [
    {
     "data": {
      "text/html": [
       "<div>\n",
       "<style scoped>\n",
       "    .dataframe tbody tr th:only-of-type {\n",
       "        vertical-align: middle;\n",
       "    }\n",
       "\n",
       "    .dataframe tbody tr th {\n",
       "        vertical-align: top;\n",
       "    }\n",
       "\n",
       "    .dataframe thead th {\n",
       "        text-align: right;\n",
       "    }\n",
       "</style>\n",
       "<table border=\"1\" class=\"dataframe\">\n",
       "  <thead>\n",
       "    <tr style=\"text-align: right;\">\n",
       "      <th></th>\n",
       "      <th>IdPassageiro</th>\n",
       "      <th>Sobreviveu</th>\n",
       "      <th>Classe</th>\n",
       "      <th>Nome</th>\n",
       "      <th>Sexo</th>\n",
       "      <th>Idade</th>\n",
       "      <th>IrmaosConjuge</th>\n",
       "      <th>PaisFilhos</th>\n",
       "      <th>Bilhete</th>\n",
       "      <th>Tarifa</th>\n",
       "      <th>Embarque</th>\n",
       "    </tr>\n",
       "  </thead>\n",
       "  <tbody>\n",
       "    <tr>\n",
       "      <th>0</th>\n",
       "      <td>1</td>\n",
       "      <td>0</td>\n",
       "      <td>3</td>\n",
       "      <td>Braund, Mr. Owen Harris</td>\n",
       "      <td>male</td>\n",
       "      <td>22.0</td>\n",
       "      <td>1</td>\n",
       "      <td>0</td>\n",
       "      <td>A/5 21171</td>\n",
       "      <td>7.2500</td>\n",
       "      <td>S</td>\n",
       "    </tr>\n",
       "    <tr>\n",
       "      <th>1</th>\n",
       "      <td>2</td>\n",
       "      <td>1</td>\n",
       "      <td>1</td>\n",
       "      <td>Cumings, Mrs. John Bradley (Florence Briggs Th...</td>\n",
       "      <td>female</td>\n",
       "      <td>38.0</td>\n",
       "      <td>1</td>\n",
       "      <td>0</td>\n",
       "      <td>PC 17599</td>\n",
       "      <td>71.2833</td>\n",
       "      <td>C</td>\n",
       "    </tr>\n",
       "    <tr>\n",
       "      <th>2</th>\n",
       "      <td>3</td>\n",
       "      <td>1</td>\n",
       "      <td>3</td>\n",
       "      <td>Heikkinen, Miss. Laina</td>\n",
       "      <td>female</td>\n",
       "      <td>26.0</td>\n",
       "      <td>0</td>\n",
       "      <td>0</td>\n",
       "      <td>STON/O2. 3101282</td>\n",
       "      <td>7.9250</td>\n",
       "      <td>S</td>\n",
       "    </tr>\n",
       "  </tbody>\n",
       "</table>\n",
       "</div>"
      ],
      "text/plain": [
       "   IdPassageiro  Sobreviveu  Classe  \\\n",
       "0             1           0       3   \n",
       "1             2           1       1   \n",
       "2             3           1       3   \n",
       "\n",
       "                                                Nome    Sexo  Idade  \\\n",
       "0                            Braund, Mr. Owen Harris    male   22.0   \n",
       "1  Cumings, Mrs. John Bradley (Florence Briggs Th...  female   38.0   \n",
       "2                             Heikkinen, Miss. Laina  female   26.0   \n",
       "\n",
       "   IrmaosConjuge  PaisFilhos           Bilhete   Tarifa Embarque  \n",
       "0              1           0         A/5 21171   7.2500        S  \n",
       "1              1           0          PC 17599  71.2833        C  \n",
       "2              0           0  STON/O2. 3101282   7.9250        S  "
      ]
     },
     "execution_count": 63,
     "metadata": {},
     "output_type": "execute_result"
    }
   ],
   "source": [
    "data.head(3)"
   ]
  },
  {
   "cell_type": "code",
   "execution_count": 64,
   "id": "3b69f9a7",
   "metadata": {},
   "outputs": [
    {
     "data": {
      "text/html": [
       "<div>\n",
       "<style scoped>\n",
       "    .dataframe tbody tr th:only-of-type {\n",
       "        vertical-align: middle;\n",
       "    }\n",
       "\n",
       "    .dataframe tbody tr th {\n",
       "        vertical-align: top;\n",
       "    }\n",
       "\n",
       "    .dataframe thead th {\n",
       "        text-align: right;\n",
       "    }\n",
       "</style>\n",
       "<table border=\"1\" class=\"dataframe\">\n",
       "  <thead>\n",
       "    <tr style=\"text-align: right;\">\n",
       "      <th></th>\n",
       "      <th>IdPassageiro</th>\n",
       "      <th>Sobreviveu</th>\n",
       "      <th>Classe</th>\n",
       "      <th>Nome</th>\n",
       "      <th>Sexo</th>\n",
       "      <th>Idade</th>\n",
       "      <th>IrmaosConjuge</th>\n",
       "      <th>PaisFilhos</th>\n",
       "      <th>Bilhete</th>\n",
       "      <th>Tarifa</th>\n",
       "      <th>Embarque</th>\n",
       "    </tr>\n",
       "  </thead>\n",
       "  <tbody>\n",
       "    <tr>\n",
       "      <th>0</th>\n",
       "      <td>1</td>\n",
       "      <td>0</td>\n",
       "      <td>3</td>\n",
       "      <td>Braund, Mr. Owen Harris</td>\n",
       "      <td>male</td>\n",
       "      <td>22.0</td>\n",
       "      <td>1</td>\n",
       "      <td>0</td>\n",
       "      <td>A/5 21171</td>\n",
       "      <td>7.2500</td>\n",
       "      <td>S</td>\n",
       "    </tr>\n",
       "    <tr>\n",
       "      <th>1</th>\n",
       "      <td>2</td>\n",
       "      <td>1</td>\n",
       "      <td>1</td>\n",
       "      <td>Cumings, Mrs. John Bradley (Florence Briggs Th...</td>\n",
       "      <td>female</td>\n",
       "      <td>38.0</td>\n",
       "      <td>1</td>\n",
       "      <td>0</td>\n",
       "      <td>PC 17599</td>\n",
       "      <td>71.2833</td>\n",
       "      <td>C</td>\n",
       "    </tr>\n",
       "    <tr>\n",
       "      <th>5</th>\n",
       "      <td>6</td>\n",
       "      <td>0</td>\n",
       "      <td>3</td>\n",
       "      <td>Moran, Mr. James</td>\n",
       "      <td>male</td>\n",
       "      <td>NaN</td>\n",
       "      <td>0</td>\n",
       "      <td>0</td>\n",
       "      <td>330877</td>\n",
       "      <td>8.4583</td>\n",
       "      <td>Q</td>\n",
       "    </tr>\n",
       "    <tr>\n",
       "      <th>6</th>\n",
       "      <td>7</td>\n",
       "      <td>0</td>\n",
       "      <td>1</td>\n",
       "      <td>McCarthy, Mr. Timothy J</td>\n",
       "      <td>male</td>\n",
       "      <td>54.0</td>\n",
       "      <td>0</td>\n",
       "      <td>0</td>\n",
       "      <td>17463</td>\n",
       "      <td>51.8625</td>\n",
       "      <td>S</td>\n",
       "    </tr>\n",
       "    <tr>\n",
       "      <th>7</th>\n",
       "      <td>8</td>\n",
       "      <td>0</td>\n",
       "      <td>3</td>\n",
       "      <td>Palsson, Master. Gosta Leonard</td>\n",
       "      <td>male</td>\n",
       "      <td>2.0</td>\n",
       "      <td>3</td>\n",
       "      <td>1</td>\n",
       "      <td>349909</td>\n",
       "      <td>21.0750</td>\n",
       "      <td>S</td>\n",
       "    </tr>\n",
       "  </tbody>\n",
       "</table>\n",
       "</div>"
      ],
      "text/plain": [
       "   IdPassageiro  Sobreviveu  Classe  \\\n",
       "0             1           0       3   \n",
       "1             2           1       1   \n",
       "5             6           0       3   \n",
       "6             7           0       1   \n",
       "7             8           0       3   \n",
       "\n",
       "                                                Nome    Sexo  Idade  \\\n",
       "0                            Braund, Mr. Owen Harris    male   22.0   \n",
       "1  Cumings, Mrs. John Bradley (Florence Briggs Th...  female   38.0   \n",
       "5                                   Moran, Mr. James    male    NaN   \n",
       "6                            McCarthy, Mr. Timothy J    male   54.0   \n",
       "7                     Palsson, Master. Gosta Leonard    male    2.0   \n",
       "\n",
       "   IrmaosConjuge  PaisFilhos    Bilhete   Tarifa Embarque  \n",
       "0              1           0  A/5 21171   7.2500        S  \n",
       "1              1           0   PC 17599  71.2833        C  \n",
       "5              0           0     330877   8.4583        Q  \n",
       "6              0           0      17463  51.8625        S  \n",
       "7              3           1     349909  21.0750        S  "
      ]
     },
     "execution_count": 64,
     "metadata": {},
     "output_type": "execute_result"
    }
   ],
   "source": [
    "data.drop([4,3,2]).head()"
   ]
  },
  {
   "cell_type": "code",
   "execution_count": 65,
   "id": "85ff0f9c",
   "metadata": {},
   "outputs": [
    {
     "data": {
      "text/html": [
       "<div>\n",
       "<style scoped>\n",
       "    .dataframe tbody tr th:only-of-type {\n",
       "        vertical-align: middle;\n",
       "    }\n",
       "\n",
       "    .dataframe tbody tr th {\n",
       "        vertical-align: top;\n",
       "    }\n",
       "\n",
       "    .dataframe thead th {\n",
       "        text-align: right;\n",
       "    }\n",
       "</style>\n",
       "<table border=\"1\" class=\"dataframe\">\n",
       "  <thead>\n",
       "    <tr style=\"text-align: right;\">\n",
       "      <th></th>\n",
       "      <th>Sobreviveu</th>\n",
       "      <th>Classe</th>\n",
       "      <th>Sexo</th>\n",
       "      <th>Idade</th>\n",
       "      <th>IrmaosConjuge</th>\n",
       "      <th>PaisFilhos</th>\n",
       "      <th>Tarifa</th>\n",
       "      <th>Embarque</th>\n",
       "    </tr>\n",
       "  </thead>\n",
       "  <tbody>\n",
       "    <tr>\n",
       "      <th>0</th>\n",
       "      <td>0</td>\n",
       "      <td>3</td>\n",
       "      <td>male</td>\n",
       "      <td>22.0</td>\n",
       "      <td>1</td>\n",
       "      <td>0</td>\n",
       "      <td>7.2500</td>\n",
       "      <td>S</td>\n",
       "    </tr>\n",
       "    <tr>\n",
       "      <th>1</th>\n",
       "      <td>1</td>\n",
       "      <td>1</td>\n",
       "      <td>female</td>\n",
       "      <td>38.0</td>\n",
       "      <td>1</td>\n",
       "      <td>0</td>\n",
       "      <td>71.2833</td>\n",
       "      <td>C</td>\n",
       "    </tr>\n",
       "    <tr>\n",
       "      <th>2</th>\n",
       "      <td>1</td>\n",
       "      <td>3</td>\n",
       "      <td>female</td>\n",
       "      <td>26.0</td>\n",
       "      <td>0</td>\n",
       "      <td>0</td>\n",
       "      <td>7.9250</td>\n",
       "      <td>S</td>\n",
       "    </tr>\n",
       "  </tbody>\n",
       "</table>\n",
       "</div>"
      ],
      "text/plain": [
       "   Sobreviveu  Classe    Sexo  Idade  IrmaosConjuge  PaisFilhos   Tarifa  \\\n",
       "0           0       3    male   22.0              1           0   7.2500   \n",
       "1           1       1  female   38.0              1           0  71.2833   \n",
       "2           1       3  female   26.0              0           0   7.9250   \n",
       "\n",
       "  Embarque  \n",
       "0        S  \n",
       "1        C  \n",
       "2        S  "
      ]
     },
     "execution_count": 65,
     "metadata": {},
     "output_type": "execute_result"
    }
   ],
   "source": [
    "data.drop(['Bilhete','IdPassageiro','Nome'], axis=1).head(3) #posso verificar apenas algumas colunas"
   ]
  },
  {
   "cell_type": "code",
   "execution_count": null,
   "id": "e577bf81",
   "metadata": {},
   "outputs": [],
   "source": []
  },
  {
   "cell_type": "code",
   "execution_count": null,
   "id": "b318f0e1",
   "metadata": {},
   "outputs": [],
   "source": []
  },
  {
   "cell_type": "code",
   "execution_count": null,
   "id": "a54fa1b8",
   "metadata": {},
   "outputs": [],
   "source": []
  }
 ],
 "metadata": {
  "kernelspec": {
   "display_name": "Python 3",
   "language": "python",
   "name": "python3"
  },
  "language_info": {
   "codemirror_mode": {
    "name": "ipython",
    "version": 3
   },
   "file_extension": ".py",
   "mimetype": "text/x-python",
   "name": "python",
   "nbconvert_exporter": "python",
   "pygments_lexer": "ipython3",
   "version": "3.8.8"
  }
 },
 "nbformat": 4,
 "nbformat_minor": 5
}

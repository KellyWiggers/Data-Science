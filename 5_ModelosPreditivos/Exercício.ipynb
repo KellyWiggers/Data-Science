{
 "cells": [
  {
   "cell_type": "code",
   "execution_count": 101,
   "id": "3e0fc123",
   "metadata": {},
   "outputs": [],
   "source": [
    "import warnings\n",
    "warnings.filterwarnings('ignore')\n",
    "\n",
    "#importing the libraries\n",
    "import numpy as np\n",
    "import pandas as pd\n",
    "import matplotlib.pyplot as plt\n",
    "import seaborn as sns"
   ]
  },
  {
   "cell_type": "markdown",
   "id": "ffe1ff0c",
   "metadata": {},
   "source": [
    "### Etapa 1: Leitura e compreensão dos dados\n",
    "\n",
    "https://archive.ics.uci.edu/ml/datasets/Automobile\n",
    "\n",
    "Base de dados para previsão de preços de carros\n",
    "\n",
    "\n",
    " ------------------        -----------------------------------------------\n",
    " - symboling:                -3, -2, -1, 0, 1, 2, 3. #insurance risk level \n",
    " - normalized-losses:        continuous from 65 to 256.\n",
    " - make:                     alfa-romero, audi, bmw, chevrolet, dodge, honda, isuzu, jaguar, mazda, mercedes-benz, mercury,\n",
    "                             mitsubishi, nissan, peugeot, plymouth, porsche, renault, saab, subaru, toyota, volkswagen, volvo\n",
    " - fuel-type:                diesel, gas.\n",
    " - aspiration:               std, turbo.\n",
    " - num-of-doors:             four, two.\n",
    " - body-style:               hardtop, wagon, sedan, hatchback, convertible.\n",
    " - drive-wheels:             4wd, fwd, rwd.\n",
    " - engine-location:          front, rear.\n",
    " - wheel-base:               continuous from 86.6 120.9.\n",
    " - length:                   continuous from 141.1 to 208.1.\n",
    " - width:                    continuous from 60.3 to 72.3.\n",
    " - height:                   continuous from 47.8 to 59.8.\n",
    " - curb-weight:              continuous from 1488 to 4066.\n",
    " - engine-type:              dohc, dohcv, l, ohc, ohcf, ohcv, rotor.\n",
    " - num-of-cylinders:         eight, five, four, six, three, twelve, two.\n",
    " - engine-size:              continuous from 61 to 326.\n",
    " - fuel-system:              1bbl, 2bbl, 4bbl, idi, mfi, mpfi, spdi, spfi.\n",
    " - bore:                     continuous from 2.54 to 3.94.\n",
    " - stroke:                   continuous from 2.07 to 4.17.\n",
    " - compression-ratio:        continuous from 7 to 23.\n",
    " - horsepower:               continuous from 48 to 288.\n",
    " - peak-rpm:                 continuous from 4150 to 6600.\n",
    " - city-mpg:                 continuous from 13 to 49.\n",
    " - highway-mpg:              continuous from 16 to 54.\n",
    " - price:                    continuous from 5118 to 45400.\n",
    "\n",
    "\n",
    "\n",
    "### Vamos começar com as seguintes etapas:\n",
    "\n",
    "- Importando dados CarPrice_Assinment.csv usando a biblioteca de pandas\n",
    "- Compreendendo a estrutura dos dados (head, shape , describe e info)"
   ]
  },
  {
   "cell_type": "code",
   "execution_count": null,
   "id": "af6c8334",
   "metadata": {},
   "outputs": [],
   "source": []
  },
  {
   "cell_type": "code",
   "execution_count": null,
   "id": "db36476d",
   "metadata": {},
   "outputs": [],
   "source": []
  },
  {
   "cell_type": "code",
   "execution_count": null,
   "id": "d6b9f8d8",
   "metadata": {},
   "outputs": [],
   "source": []
  },
  {
   "cell_type": "code",
   "execution_count": null,
   "id": "a89455e5",
   "metadata": {},
   "outputs": [],
   "source": []
  },
  {
   "cell_type": "markdown",
   "id": "ac660360",
   "metadata": {},
   "source": [
    "### Etapa 2: Limpeza e preparação de dados\n",
    "\n",
    "Dividindo o nome da empresa (company name) na coluna Carname\n",
    "Veja que na coluna CarName, temos, por exemplo, \"alfa-romero stelvio\". Portanto, podemos procurar o espaço e deixar somente o nome da companhia."
   ]
  },
  {
   "cell_type": "code",
   "execution_count": 106,
   "id": "4ef27e8f",
   "metadata": {},
   "outputs": [],
   "source": [
    "CompanyName = cars['CarName'].apply(lambda x : x.split(' ')[0])\n",
    "cars.insert(3,\"CompanyName\",CompanyName) #insere na coluna 3 a coluna CompannyName\n",
    "cars.drop(['CarName'],axis=1,inplace=True) #exclui coluna CarName\n"
   ]
  },
  {
   "cell_type": "code",
   "execution_count": 108,
   "id": "ab010090",
   "metadata": {},
   "outputs": [
    {
     "data": {
      "text/plain": [
       "array(['alfa-romero', 'audi', 'bmw', 'chevrolet', 'dodge', 'honda',\n",
       "       'isuzu', 'jaguar', 'maxda', 'mazda', 'buick', 'mercury',\n",
       "       'mitsubishi', 'Nissan', 'nissan', 'peugeot', 'plymouth', 'porsche',\n",
       "       'porcshce', 'renault', 'saab', 'subaru', 'toyota', 'toyouta',\n",
       "       'vokswagen', 'volkswagen', 'vw', 'volvo'], dtype=object)"
      ]
     },
     "execution_count": 108,
     "metadata": {},
     "output_type": "execute_result"
    }
   ],
   "source": []
  },
  {
   "cell_type": "markdown",
   "id": "16f40ce5",
   "metadata": {},
   "source": [
    "### Etapa 3: Procure por nomes de companhia que estão errados e corrija, utilizando o replace. \n",
    "Exemplo: cars.CompanyName.unique() para ver os nomes da coluna\n",
    "\n",
    "Exemplo: cars.CompanyName.replace('maxda','mazda', inplace=True)"
   ]
  },
  {
   "cell_type": "code",
   "execution_count": null,
   "id": "66f9c86b",
   "metadata": {},
   "outputs": [],
   "source": []
  },
  {
   "cell_type": "markdown",
   "id": "ba718820",
   "metadata": {},
   "source": [
    "### Etapa 4: Busque o nome das colunas e, se preferir, traduza"
   ]
  },
  {
   "cell_type": "code",
   "execution_count": null,
   "id": "b66ca0fe",
   "metadata": {},
   "outputs": [],
   "source": []
  },
  {
   "cell_type": "markdown",
   "id": "6a70d07f",
   "metadata": {},
   "source": [
    "### Etapa 5: Procure se há valores duplicados usando o loc"
   ]
  },
  {
   "cell_type": "code",
   "execution_count": null,
   "id": "81ed23a7",
   "metadata": {},
   "outputs": [],
   "source": []
  },
  {
   "cell_type": "markdown",
   "id": "e1027a8a",
   "metadata": {},
   "source": [
    "### Etapa 6: Procure se há valores faltantes"
   ]
  },
  {
   "cell_type": "code",
   "execution_count": null,
   "id": "a1b9dfef",
   "metadata": {},
   "outputs": [],
   "source": []
  },
  {
   "cell_type": "markdown",
   "id": "142f2931",
   "metadata": {},
   "source": [
    "### Etapa 7: Visualize os preços (faça plots)\n",
    "- distribuição do preço dos carros por histograma. Pode usar o seaborn se preferir.\n",
    "- propagação do preço dos carros por boxplot."
   ]
  },
  {
   "cell_type": "code",
   "execution_count": null,
   "id": "041f2152",
   "metadata": {},
   "outputs": [],
   "source": []
  },
  {
   "cell_type": "markdown",
   "id": "7f1cbd7c",
   "metadata": {},
   "source": [
    "### Visualize o histograma para verificar os nomes das empresa e frequencia, o combustivel e os tipos de carros"
   ]
  },
  {
   "cell_type": "code",
   "execution_count": null,
   "id": "8059018e",
   "metadata": {},
   "outputs": [],
   "source": []
  },
  {
   "cell_type": "markdown",
   "id": "865baade",
   "metadata": {},
   "source": [
    "### Monte mais um tipo de visualização, por exemplo Symboling x Price, Engine x Price..."
   ]
  },
  {
   "cell_type": "code",
   "execution_count": null,
   "id": "d83fd92d",
   "metadata": {},
   "outputs": [],
   "source": []
  },
  {
   "cell_type": "markdown",
   "id": "685f212c",
   "metadata": {},
   "source": [
    "### Etapa 8: Excluir colunas que não serão usadas no treino"
   ]
  },
  {
   "cell_type": "code",
   "execution_count": 134,
   "id": "9af5d4b3",
   "metadata": {},
   "outputs": [],
   "source": []
  },
  {
   "cell_type": "markdown",
   "id": "a782b631",
   "metadata": {},
   "source": [
    "### Etapa 9: Transformar variáveis categóricas em numéricas"
   ]
  },
  {
   "cell_type": "code",
   "execution_count": null,
   "id": "4a6e727c",
   "metadata": {},
   "outputs": [],
   "source": []
  },
  {
   "cell_type": "markdown",
   "id": "c15c3660",
   "metadata": {},
   "source": [
    "### Etapa 10: Aplique o KNN como sistema preditivo do preço, procurando o valor de K ideal. \n",
    "Faça também o calculo do erro, e simule predições de dados desconhecidos."
   ]
  },
  {
   "cell_type": "code",
   "execution_count": null,
   "id": "8bbfc203",
   "metadata": {},
   "outputs": [],
   "source": []
  },
  {
   "cell_type": "markdown",
   "id": "c777578a",
   "metadata": {},
   "source": [
    "### Faça um experimento com um vetor \"desconhecido\". Pegue um vetor da base e simule a predição. Lembre de realizar os tratamentos antes."
   ]
  },
  {
   "cell_type": "code",
   "execution_count": null,
   "id": "a391dca3",
   "metadata": {},
   "outputs": [],
   "source": []
  },
  {
   "cell_type": "markdown",
   "id": "a7440316",
   "metadata": {},
   "source": [
    "### Transforme essa base de dados, para criar 5 categorias de carros conforme o preço. Exemplo: 5000 a 10000 são carros categoria A, de 10000 a 20000, categoria B, e assim por diante até a ultima categoria abranger o valor max do preço.\n",
    "\n"
   ]
  },
  {
   "cell_type": "code",
   "execution_count": null,
   "id": "bb12e780",
   "metadata": {},
   "outputs": [],
   "source": []
  },
  {
   "cell_type": "markdown",
   "id": "586686fb",
   "metadata": {},
   "source": [
    "### Separe a base com 70% treino e 30% teste. Faça o treinamento utilizando Árvore de decisão para classificar um carro conforme a categoria."
   ]
  },
  {
   "cell_type": "code",
   "execution_count": null,
   "id": "34b87c18",
   "metadata": {},
   "outputs": [],
   "source": []
  },
  {
   "cell_type": "markdown",
   "id": "e5833804",
   "metadata": {},
   "source": [
    "### Faça a análise dos resultados por acurácia, precisão e recall. "
   ]
  },
  {
   "cell_type": "code",
   "execution_count": null,
   "id": "13db7901",
   "metadata": {},
   "outputs": [],
   "source": []
  }
 ],
 "metadata": {
  "kernelspec": {
   "display_name": "Python 3",
   "language": "python",
   "name": "python3"
  },
  "language_info": {
   "codemirror_mode": {
    "name": "ipython",
    "version": 3
   },
   "file_extension": ".py",
   "mimetype": "text/x-python",
   "name": "python",
   "nbconvert_exporter": "python",
   "pygments_lexer": "ipython3",
   "version": "3.8.8"
  }
 },
 "nbformat": 4,
 "nbformat_minor": 5
}

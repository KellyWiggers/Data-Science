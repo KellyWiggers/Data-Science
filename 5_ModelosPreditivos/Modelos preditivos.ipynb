{
 "cells": [
  {
   "cell_type": "markdown",
   "id": "b73249b8",
   "metadata": {},
   "source": [
    "# KNN"
   ]
  },
  {
   "cell_type": "code",
   "execution_count": 89,
   "id": "b7ea9783",
   "metadata": {},
   "outputs": [],
   "source": [
    "import pandas as pd\n",
    "data_esporte = pd.read_csv('esporte.csv') # Comma Separated Values - Valores Separados Por Vírgula"
   ]
  },
  {
   "cell_type": "code",
   "execution_count": 90,
   "id": "545ecec1",
   "metadata": {},
   "outputs": [
    {
     "data": {
      "text/html": [
       "<div>\n",
       "<style scoped>\n",
       "    .dataframe tbody tr th:only-of-type {\n",
       "        vertical-align: middle;\n",
       "    }\n",
       "\n",
       "    .dataframe tbody tr th {\n",
       "        vertical-align: top;\n",
       "    }\n",
       "\n",
       "    .dataframe thead th {\n",
       "        text-align: right;\n",
       "    }\n",
       "</style>\n",
       "<table border=\"1\" class=\"dataframe\">\n",
       "  <thead>\n",
       "    <tr style=\"text-align: right;\">\n",
       "      <th></th>\n",
       "      <th>Nome</th>\n",
       "      <th>Idade</th>\n",
       "      <th>Sexo</th>\n",
       "      <th>Esporte</th>\n",
       "    </tr>\n",
       "  </thead>\n",
       "  <tbody>\n",
       "    <tr>\n",
       "      <th>0</th>\n",
       "      <td>Manuel</td>\n",
       "      <td>32</td>\n",
       "      <td>M</td>\n",
       "      <td>Futebol</td>\n",
       "    </tr>\n",
       "    <tr>\n",
       "      <th>1</th>\n",
       "      <td>Alberto</td>\n",
       "      <td>40</td>\n",
       "      <td>M</td>\n",
       "      <td>Basquete</td>\n",
       "    </tr>\n",
       "    <tr>\n",
       "      <th>2</th>\n",
       "      <td>Paula</td>\n",
       "      <td>16</td>\n",
       "      <td>F</td>\n",
       "      <td>Volei</td>\n",
       "    </tr>\n",
       "    <tr>\n",
       "      <th>3</th>\n",
       "      <td>Ana</td>\n",
       "      <td>34</td>\n",
       "      <td>F</td>\n",
       "      <td>Volei</td>\n",
       "    </tr>\n",
       "    <tr>\n",
       "      <th>4</th>\n",
       "      <td>Antonio</td>\n",
       "      <td>55</td>\n",
       "      <td>M</td>\n",
       "      <td>Basquete</td>\n",
       "    </tr>\n",
       "  </tbody>\n",
       "</table>\n",
       "</div>"
      ],
      "text/plain": [
       "      Nome  Idade Sexo   Esporte\n",
       "0   Manuel     32    M   Futebol\n",
       "1  Alberto     40    M  Basquete\n",
       "2    Paula     16    F     Volei\n",
       "3      Ana     34    F     Volei\n",
       "4  Antonio     55    M  Basquete"
      ]
     },
     "execution_count": 90,
     "metadata": {},
     "output_type": "execute_result"
    }
   ],
   "source": [
    "data_esporte.head()"
   ]
  },
  {
   "cell_type": "markdown",
   "id": "f2fecf84",
   "metadata": {},
   "source": [
    "### Considerando os dados acima, usando o KNN vamos encontrar qual seria a preferencia desportiva da Angelina que tem 5 anos de idade.\n",
    "\n",
    "Para tanto, precisamos transformar os dados de Sexo para numérico. Assim, 0 é Masculino e 1 é Feminino."
   ]
  },
  {
   "cell_type": "code",
   "execution_count": 91,
   "id": "a3c26ab4",
   "metadata": {},
   "outputs": [],
   "source": [
    "data_esporte['Sexo'] = data_esporte['Sexo'].map({'M':0, 'F':1})"
   ]
  },
  {
   "cell_type": "code",
   "execution_count": 92,
   "id": "7ef3edd8",
   "metadata": {},
   "outputs": [
    {
     "data": {
      "text/html": [
       "<div>\n",
       "<style scoped>\n",
       "    .dataframe tbody tr th:only-of-type {\n",
       "        vertical-align: middle;\n",
       "    }\n",
       "\n",
       "    .dataframe tbody tr th {\n",
       "        vertical-align: top;\n",
       "    }\n",
       "\n",
       "    .dataframe thead th {\n",
       "        text-align: right;\n",
       "    }\n",
       "</style>\n",
       "<table border=\"1\" class=\"dataframe\">\n",
       "  <thead>\n",
       "    <tr style=\"text-align: right;\">\n",
       "      <th></th>\n",
       "      <th>Nome</th>\n",
       "      <th>Idade</th>\n",
       "      <th>Sexo</th>\n",
       "      <th>Esporte</th>\n",
       "    </tr>\n",
       "  </thead>\n",
       "  <tbody>\n",
       "    <tr>\n",
       "      <th>0</th>\n",
       "      <td>Manuel</td>\n",
       "      <td>32</td>\n",
       "      <td>0</td>\n",
       "      <td>Futebol</td>\n",
       "    </tr>\n",
       "    <tr>\n",
       "      <th>1</th>\n",
       "      <td>Alberto</td>\n",
       "      <td>40</td>\n",
       "      <td>0</td>\n",
       "      <td>Basquete</td>\n",
       "    </tr>\n",
       "    <tr>\n",
       "      <th>2</th>\n",
       "      <td>Paula</td>\n",
       "      <td>16</td>\n",
       "      <td>1</td>\n",
       "      <td>Volei</td>\n",
       "    </tr>\n",
       "    <tr>\n",
       "      <th>3</th>\n",
       "      <td>Ana</td>\n",
       "      <td>34</td>\n",
       "      <td>1</td>\n",
       "      <td>Volei</td>\n",
       "    </tr>\n",
       "    <tr>\n",
       "      <th>4</th>\n",
       "      <td>Antonio</td>\n",
       "      <td>55</td>\n",
       "      <td>0</td>\n",
       "      <td>Basquete</td>\n",
       "    </tr>\n",
       "    <tr>\n",
       "      <th>5</th>\n",
       "      <td>Sandro</td>\n",
       "      <td>40</td>\n",
       "      <td>0</td>\n",
       "      <td>Volei</td>\n",
       "    </tr>\n",
       "    <tr>\n",
       "      <th>6</th>\n",
       "      <td>Idra</td>\n",
       "      <td>20</td>\n",
       "      <td>1</td>\n",
       "      <td>Basquete</td>\n",
       "    </tr>\n",
       "    <tr>\n",
       "      <th>7</th>\n",
       "      <td>Gelson</td>\n",
       "      <td>15</td>\n",
       "      <td>0</td>\n",
       "      <td>Volei</td>\n",
       "    </tr>\n",
       "    <tr>\n",
       "      <th>8</th>\n",
       "      <td>Amelia</td>\n",
       "      <td>55</td>\n",
       "      <td>1</td>\n",
       "      <td>Futebol</td>\n",
       "    </tr>\n",
       "    <tr>\n",
       "      <th>9</th>\n",
       "      <td>Umar</td>\n",
       "      <td>15</td>\n",
       "      <td>0</td>\n",
       "      <td>Futebol</td>\n",
       "    </tr>\n",
       "  </tbody>\n",
       "</table>\n",
       "</div>"
      ],
      "text/plain": [
       "      Nome  Idade  Sexo   Esporte\n",
       "0   Manuel     32     0   Futebol\n",
       "1  Alberto     40     0  Basquete\n",
       "2    Paula     16     1     Volei\n",
       "3      Ana     34     1     Volei\n",
       "4  Antonio     55     0  Basquete\n",
       "5   Sandro     40     0     Volei\n",
       "6     Idra     20     1  Basquete\n",
       "7   Gelson     15     0     Volei\n",
       "8   Amelia     55     1   Futebol\n",
       "9     Umar     15     0   Futebol"
      ]
     },
     "execution_count": 92,
     "metadata": {},
     "output_type": "execute_result"
    }
   ],
   "source": [
    "data_esporte"
   ]
  },
  {
   "cell_type": "markdown",
   "id": "d1a79abb",
   "metadata": {},
   "source": [
    "### Calcular a distância euclidiana\n",
    "\n",
    "$d(p,q) = \\sqrt{\\sum_{i=0}^{n}(p_i - q_i)^{2}}$"
   ]
  },
  {
   "cell_type": "markdown",
   "id": "58a28db9",
   "metadata": {},
   "source": [
    "Usaremos k = 3."
   ]
  },
  {
   "cell_type": "markdown",
   "id": "4de34565",
   "metadata": {},
   "source": [
    "$d(Angelina, Manuel) = \\sqrt{(5 - 32) + (1-0)^2}$ = 27.02"
   ]
  },
  {
   "attachments": {
    "image.png": {
     "image/png": "[encoded data removed]"
    }
   },
   "cell_type": "markdown",
   "id": "1ad91550",
   "metadata": {},
   "source": [
    "### Faremos o mesmo para todos os pontos temos\n",
    "\n",
    "![image.png](attachment:image.png)"
   ]
  },
  {
   "cell_type": "markdown",
   "id": "097e0159",
   "metadata": {},
   "source": [
    "### Sabendo que k = 3 significa que devemos encontrar os 3 pontos mais próximos, temos:\n",
    "\n",
    "Volei(Distância = 9.00); Volei(Distancia = 10); Futebol(Distancia = 10.05)\n",
    "\n",
    "#### Conclui-se que a previsão de Angelina é Volei."
   ]
  },
  {
   "cell_type": "markdown",
   "id": "cbad4b03",
   "metadata": {},
   "source": [
    "## KNN com sklearn"
   ]
  },
  {
   "cell_type": "code",
   "execution_count": 93,
   "id": "9d53445d",
   "metadata": {},
   "outputs": [
    {
     "data": {
      "text/html": [
       "<div>\n",
       "<style scoped>\n",
       "    .dataframe tbody tr th:only-of-type {\n",
       "        vertical-align: middle;\n",
       "    }\n",
       "\n",
       "    .dataframe tbody tr th {\n",
       "        vertical-align: top;\n",
       "    }\n",
       "\n",
       "    .dataframe thead th {\n",
       "        text-align: right;\n",
       "    }\n",
       "</style>\n",
       "<table border=\"1\" class=\"dataframe\">\n",
       "  <thead>\n",
       "    <tr style=\"text-align: right;\">\n",
       "      <th></th>\n",
       "      <th>Idade</th>\n",
       "      <th>Sexo</th>\n",
       "      <th>Esporte</th>\n",
       "    </tr>\n",
       "  </thead>\n",
       "  <tbody>\n",
       "    <tr>\n",
       "      <th>0</th>\n",
       "      <td>32</td>\n",
       "      <td>0</td>\n",
       "      <td>Futebol</td>\n",
       "    </tr>\n",
       "    <tr>\n",
       "      <th>1</th>\n",
       "      <td>40</td>\n",
       "      <td>0</td>\n",
       "      <td>Basquete</td>\n",
       "    </tr>\n",
       "    <tr>\n",
       "      <th>2</th>\n",
       "      <td>16</td>\n",
       "      <td>1</td>\n",
       "      <td>Volei</td>\n",
       "    </tr>\n",
       "    <tr>\n",
       "      <th>3</th>\n",
       "      <td>34</td>\n",
       "      <td>1</td>\n",
       "      <td>Volei</td>\n",
       "    </tr>\n",
       "    <tr>\n",
       "      <th>4</th>\n",
       "      <td>55</td>\n",
       "      <td>0</td>\n",
       "      <td>Basquete</td>\n",
       "    </tr>\n",
       "    <tr>\n",
       "      <th>5</th>\n",
       "      <td>40</td>\n",
       "      <td>0</td>\n",
       "      <td>Volei</td>\n",
       "    </tr>\n",
       "    <tr>\n",
       "      <th>6</th>\n",
       "      <td>20</td>\n",
       "      <td>1</td>\n",
       "      <td>Basquete</td>\n",
       "    </tr>\n",
       "    <tr>\n",
       "      <th>7</th>\n",
       "      <td>15</td>\n",
       "      <td>0</td>\n",
       "      <td>Volei</td>\n",
       "    </tr>\n",
       "    <tr>\n",
       "      <th>8</th>\n",
       "      <td>55</td>\n",
       "      <td>1</td>\n",
       "      <td>Futebol</td>\n",
       "    </tr>\n",
       "    <tr>\n",
       "      <th>9</th>\n",
       "      <td>15</td>\n",
       "      <td>0</td>\n",
       "      <td>Futebol</td>\n",
       "    </tr>\n",
       "  </tbody>\n",
       "</table>\n",
       "</div>"
      ],
      "text/plain": [
       "   Idade  Sexo   Esporte\n",
       "0     32     0   Futebol\n",
       "1     40     0  Basquete\n",
       "2     16     1     Volei\n",
       "3     34     1     Volei\n",
       "4     55     0  Basquete\n",
       "5     40     0     Volei\n",
       "6     20     1  Basquete\n",
       "7     15     0     Volei\n",
       "8     55     1   Futebol\n",
       "9     15     0   Futebol"
      ]
     },
     "execution_count": 93,
     "metadata": {},
     "output_type": "execute_result"
    }
   ],
   "source": [
    "# Excluir as colunas que não serão utilizadas no modelo. No caso, Nome\n",
    "\n",
    "data_esporte = data_esporte.drop(['Nome'], axis=1)\n",
    "\n",
    "data_esporte\n"
   ]
  },
  {
   "cell_type": "code",
   "execution_count": 94,
   "id": "93a4db9d",
   "metadata": {},
   "outputs": [],
   "source": [
    "#Transformar variável Esporte em numérica\n",
    "\n",
    "data_esporte['Esporte'] = data_esporte['Esporte'].map({'Futebol':0, 'Volei':1, 'Basquete':2})"
   ]
  },
  {
   "cell_type": "markdown",
   "id": "a05a98e1",
   "metadata": {},
   "source": [
    "### vamos separar as colunas de características e qual deve ser prevista, que no caso, é o esporte"
   ]
  },
  {
   "cell_type": "code",
   "execution_count": 95,
   "id": "a4a29f75",
   "metadata": {},
   "outputs": [],
   "source": [
    "import numpy as np\n",
    "\n",
    "X = np.array(data_esporte.iloc[:, 0:2])\n",
    "y = np.array(data_esporte['Esporte'])"
   ]
  },
  {
   "cell_type": "code",
   "execution_count": 96,
   "id": "3464f7d9",
   "metadata": {},
   "outputs": [
    {
     "data": {
      "text/plain": [
       "array([[32,  0],\n",
       "       [40,  0],\n",
       "       [16,  1],\n",
       "       [34,  1],\n",
       "       [55,  0],\n",
       "       [40,  0],\n",
       "       [20,  1],\n",
       "       [15,  0],\n",
       "       [55,  1],\n",
       "       [15,  0]], dtype=int64)"
      ]
     },
     "execution_count": 96,
     "metadata": {},
     "output_type": "execute_result"
    }
   ],
   "source": [
    "X"
   ]
  },
  {
   "cell_type": "markdown",
   "id": "d66b301f",
   "metadata": {},
   "source": [
    "### A fim de testar o modelo, vamos particionar o dataframe com 80% treino e 20%  teste"
   ]
  },
  {
   "cell_type": "code",
   "execution_count": 97,
   "id": "494cfdb0",
   "metadata": {},
   "outputs": [
    {
     "data": {
      "text/plain": [
       "array([0, 2, 1, 1, 2, 1, 2, 1, 0, 0], dtype=int64)"
      ]
     },
     "execution_count": 97,
     "metadata": {},
     "output_type": "execute_result"
    }
   ],
   "source": [
    "y"
   ]
  },
  {
   "cell_type": "code",
   "execution_count": 98,
   "id": "ee72a178",
   "metadata": {},
   "outputs": [],
   "source": [
    "from sklearn.model_selection import train_test_split\n",
    "\n",
    "X_train, X_test, y_train, y_test = train_test_split(X, y, test_size=0.2, random_state=12345)\n"
   ]
  },
  {
   "cell_type": "code",
   "execution_count": 100,
   "id": "99b0f856",
   "metadata": {},
   "outputs": [
    {
     "data": {
      "text/plain": [
       "KNeighborsRegressor(n_neighbors=3)"
      ]
     },
     "execution_count": 100,
     "metadata": {},
     "output_type": "execute_result"
    }
   ],
   "source": [
    "## Realizando o processo de KNN como algoritmo de regressão\n",
    "from sklearn.neighbors import KNeighborsRegressor\n",
    "\n",
    "#treinamento do algoritmo com 3 vizinhos mais próximos\n",
    "knn_model = KNeighborsRegressor(n_neighbors = 3)\n",
    "\n",
    "knn_model.fit(X_train,y_train)\n"
   ]
  },
  {
   "cell_type": "code",
   "execution_count": 101,
   "id": "c2a07a6c",
   "metadata": {},
   "outputs": [
    {
     "data": {
      "text/plain": [
       "0.9428090415820634"
      ]
     },
     "execution_count": 101,
     "metadata": {},
     "output_type": "execute_result"
    }
   ],
   "source": [
    "from sklearn.metrics import mean_squared_error\n",
    "from math import sqrt\n",
    "\n",
    "predicoes = knn_model.predict(X_test)\n",
    "mse = mean_squared_error(y_test, predicoes)\n",
    "rmse = sqrt(mse)\n",
    "rmse"
   ]
  },
  {
   "cell_type": "markdown",
   "id": "04e6d09e",
   "metadata": {},
   "source": [
    "### isso significa que o algoritmo tem um alto erro. Ou seja, não teve as previsões semelhantes aos valores reais."
   ]
  },
  {
   "cell_type": "code",
   "execution_count": 104,
   "id": "a2c28d2e",
   "metadata": {},
   "outputs": [
    {
     "data": {
      "text/plain": [
       "array([[32,  0],\n",
       "       [15,  0]], dtype=int64)"
      ]
     },
     "execution_count": 104,
     "metadata": {},
     "output_type": "execute_result"
    }
   ],
   "source": [
    "X_test\n",
    "\n"
   ]
  },
  {
   "cell_type": "code",
   "execution_count": 105,
   "id": "442e94b5",
   "metadata": {
    "scrolled": true
   },
   "outputs": [
    {
     "data": {
      "text/plain": [
       "array([1.33333333, 1.        ])"
      ]
     },
     "execution_count": 105,
     "metadata": {},
     "output_type": "execute_result"
    }
   ],
   "source": [
    "predicoes"
   ]
  },
  {
   "cell_type": "markdown",
   "id": "84958986",
   "metadata": {},
   "source": [
    "### Testar com um exemplo de valor desconhecido. Ou seja, queremos prever qual seria o esporte escolhido por Angelina, sendo feature Idade = 5 anos e Sexo = Feminino (1)\n"
   ]
  },
  {
   "cell_type": "code",
   "execution_count": 106,
   "id": "e455a21b",
   "metadata": {},
   "outputs": [
    {
     "name": "stdout",
     "output_type": "stream",
     "text": [
      "[1.]\n"
     ]
    }
   ],
   "source": [
    "exemploAngelina = [[5,1]]\n",
    "print(knn_model.predict(exemploAngelina))"
   ]
  },
  {
   "cell_type": "markdown",
   "id": "83a9fd3c",
   "metadata": {},
   "source": [
    "#### 1 é volei!"
   ]
  },
  {
   "cell_type": "markdown",
   "id": "73007920",
   "metadata": {},
   "source": [
    "### Como não sabemos se o problema é o número de vizinhos, visto que foi definido empiricamente, vamos testar vários valores e observar o menor erro."
   ]
  },
  {
   "cell_type": "code",
   "execution_count": 133,
   "id": "5e92c2ed",
   "metadata": {},
   "outputs": [
    {
     "data": {
      "text/plain": [
       "[1, 3, 5]"
      ]
     },
     "execution_count": 133,
     "metadata": {},
     "output_type": "execute_result"
    }
   ],
   "source": [
    "## Execução do algoritmo\n",
    "\n",
    "#criar uma lista de vizinhos com números ímpares para K. Vai de 1 a 5, stride de 2. \n",
    "vizinhos = list(range(1, 6, 2))\n",
    "\n",
    "vizinhos"
   ]
  },
  {
   "cell_type": "code",
   "execution_count": 134,
   "id": "da337dd5",
   "metadata": {},
   "outputs": [],
   "source": [
    "#criação da estrutura de litas para armazenar os valores das predições\n",
    "lista_vizinhos = []"
   ]
  },
  {
   "cell_type": "code",
   "execution_count": 135,
   "id": "8deb8f11",
   "metadata": {},
   "outputs": [],
   "source": [
    "lista_predicoes = []\n",
    "lista_rmse = []"
   ]
  },
  {
   "cell_type": "code",
   "execution_count": 136,
   "id": "e33f7da1",
   "metadata": {},
   "outputs": [],
   "source": [
    "for k in vizinhos:\n",
    "    knn_model = KNeighborsRegressor(n_neighbors = k)\n",
    "    knn_model.fit(X_train,y_train)\n",
    "    predicoes = knn_model.predict(X_test)\n",
    "    mse = mean_squared_error(y_test, predicoes)\n",
    "    rmse = sqrt(mse)\n",
    "    lista_vizinhos.append(k)   \n",
    "    lista_predicoes.append(predicoes)\n",
    "    lista_rmse.append(rmse)"
   ]
  },
  {
   "cell_type": "code",
   "execution_count": 137,
   "id": "ae528ac9",
   "metadata": {},
   "outputs": [
    {
     "data": {
      "text/plain": [
       "[1, 3, 5]"
      ]
     },
     "execution_count": 137,
     "metadata": {},
     "output_type": "execute_result"
    }
   ],
   "source": [
    "lista_vizinhos"
   ]
  },
  {
   "cell_type": "code",
   "execution_count": 138,
   "id": "684522d3",
   "metadata": {},
   "outputs": [
    {
     "data": {
      "text/plain": [
       "[KNeighborsRegressor(n_neighbors=1),\n",
       " KNeighborsRegressor(n_neighbors=3),\n",
       " KNeighborsRegressor()]"
      ]
     },
     "execution_count": 138,
     "metadata": {},
     "output_type": "execute_result"
    }
   ],
   "source": [
    "lista_modelos"
   ]
  },
  {
   "cell_type": "code",
   "execution_count": 139,
   "id": "7f900ee1",
   "metadata": {},
   "outputs": [
    {
     "data": {
      "text/plain": [
       "[array([1., 0.]), array([1.33333333, 1.        ]), array([1.4, 1. ])]"
      ]
     },
     "execution_count": 139,
     "metadata": {},
     "output_type": "execute_result"
    }
   ],
   "source": [
    "lista_predicoes"
   ]
  },
  {
   "cell_type": "code",
   "execution_count": 140,
   "id": "3bbb8d00",
   "metadata": {},
   "outputs": [
    {
     "data": {
      "text/plain": [
       "[1.0, 0.9428090415820634, 0.9899494936611665]"
      ]
     },
     "execution_count": 140,
     "metadata": {},
     "output_type": "execute_result"
    }
   ],
   "source": [
    "lista_rmse"
   ]
  },
  {
   "cell_type": "code",
   "execution_count": 141,
   "id": "7a698814",
   "metadata": {},
   "outputs": [],
   "source": [
    "# contrução do dataframe\n",
    "df_1 = pd.DataFrame (lista_vizinhos, columns=['K vizinhos'])\n",
    "df_4 = pd.DataFrame (lista_rmse, columns=['RMSE'])\n",
    "df_knn = pd.concat([df_1, df_4], axis=1)\n",
    "\n",
    "# retorna o menor erro obtido\n",
    "menor_k = min(df_knn['RMSE'])\n",
    "\n",
    "# retorna os valores de k e f do menor erro obtido\n",
    "index_opt = df_knn[df_knn['RMSE'] == menor_k].index.tolist()"
   ]
  },
  {
   "cell_type": "code",
   "execution_count": 142,
   "id": "da04bf28",
   "metadata": {},
   "outputs": [
    {
     "data": {
      "text/html": [
       "<div>\n",
       "<style scoped>\n",
       "    .dataframe tbody tr th:only-of-type {\n",
       "        vertical-align: middle;\n",
       "    }\n",
       "\n",
       "    .dataframe tbody tr th {\n",
       "        vertical-align: top;\n",
       "    }\n",
       "\n",
       "    .dataframe thead th {\n",
       "        text-align: right;\n",
       "    }\n",
       "</style>\n",
       "<table border=\"1\" class=\"dataframe\">\n",
       "  <thead>\n",
       "    <tr style=\"text-align: right;\">\n",
       "      <th></th>\n",
       "      <th>K vizinhos</th>\n",
       "      <th>RMSE</th>\n",
       "    </tr>\n",
       "  </thead>\n",
       "  <tbody>\n",
       "    <tr>\n",
       "      <th>0</th>\n",
       "      <td>1</td>\n",
       "      <td>1.000000</td>\n",
       "    </tr>\n",
       "    <tr>\n",
       "      <th>1</th>\n",
       "      <td>3</td>\n",
       "      <td>0.942809</td>\n",
       "    </tr>\n",
       "    <tr>\n",
       "      <th>2</th>\n",
       "      <td>5</td>\n",
       "      <td>0.989949</td>\n",
       "    </tr>\n",
       "  </tbody>\n",
       "</table>\n",
       "</div>"
      ],
      "text/plain": [
       "   K vizinhos      RMSE\n",
       "0           1  1.000000\n",
       "1           3  0.942809\n",
       "2           5  0.989949"
      ]
     },
     "execution_count": 142,
     "metadata": {},
     "output_type": "execute_result"
    }
   ],
   "source": [
    "df_knn"
   ]
  },
  {
   "cell_type": "code",
   "execution_count": null,
   "id": "a4b5af77",
   "metadata": {},
   "outputs": [],
   "source": [
    "x2 = predicoes\n",
    "Y2 = y_test\n",
    "plt.figure(figsize=(20,5))\n",
    "plt.plot(x2, linewidth=2, color='r')\n",
    "plt.plot(Y2, linewidth=0.5,color='b')\n",
    "plt.title('Valores preditos e os valores reais',size=15)\n",
    "plt.legend(['Predições','Real'],fontsize=15)\n",
    "plt.show()"
   ]
  }
 ],
 "metadata": {
  "kernelspec": {
   "display_name": "Python 3",
   "language": "python",
   "name": "python3"
  },
  "language_info": {
   "codemirror_mode": {
    "name": "ipython",
    "version": 3
   },
   "file_extension": ".py",
   "mimetype": "text/x-python",
   "name": "python",
   "nbconvert_exporter": "python",
   "pygments_lexer": "ipython3",
   "version": "3.8.8"
  }
 },
 "nbformat": 4,
 "nbformat_minor": 5
}

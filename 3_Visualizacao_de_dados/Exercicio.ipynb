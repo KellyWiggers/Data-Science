{
 "cells": [
  {
   "cell_type": "markdown",
   "id": "d27483be",
   "metadata": {},
   "source": [
    "# Exercícios"
   ]
  },
  {
   "cell_type": "markdown",
   "id": "4d8e7f09",
   "metadata": {},
   "source": [
    "1) Considere o dataset CompanhiaMB.csv. \n",
    "- Identifique os tipos de dados para cada variável (categórico, numérico...)\n",
    "- Veja o catálogo From Data to Viz (https://www.data-to-viz.com/)\n",
    "- Identifique qual mapeamento visual é o mais indicado para os seus dados e, se você julgar que aquele paradigma visual realmente é a melhor escolha, apresente seus dados com a visualização\n",
    "- Descreva os insights que a visualização proporcionou para os seus dados\n",
    "- Entrega no Moodle até 6/4. (Entregar o notebook .ipynb ou arquivo .py)"
   ]
  },
  {
   "cell_type": "code",
   "execution_count": null,
   "id": "7a8d6abd",
   "metadata": {},
   "outputs": [],
   "source": []
  }
 ],
 "metadata": {
  "kernelspec": {
   "display_name": "Python 3 (ipykernel)",
   "language": "python",
   "name": "python3"
  },
  "language_info": {
   "codemirror_mode": {
    "name": "ipython",
    "version": 3
   },
   "file_extension": ".py",
   "mimetype": "text/x-python",
   "name": "python",
   "nbconvert_exporter": "python",
   "pygments_lexer": "ipython3",
   "version": "3.9.13"
  }
 },
 "nbformat": 4,
 "nbformat_minor": 5
}
